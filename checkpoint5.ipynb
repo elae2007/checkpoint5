{
 "cells": [
  {
   "cell_type": "code",
   "execution_count": 1,
   "id": "65fc103c",
   "metadata": {},
   "outputs": [
    {
     "name": "stdout",
     "output_type": "stream",
     "text": [
      "(1, 2, 3)\n"
     ]
    }
   ],
   "source": [
    "#ex1\n",
    "class Point3D(object):\n",
    "    def __init__(self, x, y, z):\n",
    "        self.x = x\n",
    "        self.y = y\n",
    "        self.z = z\n",
    "    def __repr__(self):\n",
    "        return \"(%d, %d, %d)\" % (self.x, self.y, self.z)\n",
    "my_point = Point3D(1,2,3)\n",
    "print (my_point)"
   ]
  },
  {
   "cell_type": "code",
   "execution_count": 73,
   "id": "4d0dc982",
   "metadata": {},
   "outputs": [
    {
     "name": "stdout",
     "output_type": "stream",
     "text": [
      "(3,4)\n"
     ]
    }
   ],
   "source": [
    "#ex2\n",
    "class Python():\n",
    "    def __init__(self,length,width):\n",
    "        self.length=length\n",
    "        self.width=width\n",
    "    def area(length,width):\n",
    "        return length*width\n",
    "    def perimeter(self):\n",
    "        return lenght+width*2\n",
    "    def my_rectangle(self):\n",
    "        return \"(%d,%d)\"% (self.length,self.width)\n",
    "rectangle = Python(3,4)\n",
    "print(rectangle.my_rectangle())"
   ]
  },
  {
   "cell_type": "code",
   "execution_count": 48,
   "id": "533835c8",
   "metadata": {},
   "outputs": [
    {
     "name": "stdout",
     "output_type": "stream",
     "text": [
      "input the number that you withdraw :200\n",
      "300.0\n",
      "input the deposit number :100\n",
      "400.0\n"
     ]
    }
   ],
   "source": [
    "#ex4\n",
    "class Bank():\n",
    "    def __init__(self):\n",
    "        self.balance=500\n",
    "    def withdraw (self):\n",
    "        r=float(input(\"input the number that you withdraw :\"))\n",
    "        self.balance-=r\n",
    "        print(self.balance)\n",
    "    def deposit (self):\n",
    "        n=float(input(\"input the deposit number :\"))\n",
    "        self.balance+=n\n",
    "        print(self.balance)\n",
    "rt=Bank()\n",
    "rt.withdraw()\n",
    "rt.deposit()\n",
    "  "
   ]
  },
  {
   "cell_type": "code",
   "execution_count": 3,
   "id": "008d8527",
   "metadata": {},
   "outputs": [
    {
     "name": "stdout",
     "output_type": "stream",
     "text": [
      "Input circle radius:40\n",
      "Input a num:4\n",
      "n belongs to the circle C\n",
      "5024.0\n",
      "251.20000000000002\n"
     ]
    }
   ],
   "source": [
    "#ex3\n",
    "r=int(input(\"Input circle radius:\"))\n",
    "i=int(input(\"Input a num:\"))\n",
    "class Circle():\n",
    "    def __init__(self, r):\n",
    "        self.radius = r\n",
    "    def area(self):\n",
    "        return self.radius**2*3.14\n",
    "    def perimeter(self):\n",
    "        return 2*self.radius*3.14\n",
    "    def isInside(self,xA,xo,yA,yo):\n",
    "        self.A=A\n",
    "        ab=sqrt(((xA-xo)**2)+((yA-yo)**2))\n",
    "    if i<=r:\n",
    "        print(\"n belongs to the circle C\")\n",
    "    else:\n",
    "        print(\"n doesn't belong to the circle C\")\n",
    "NewCircle = Circle(r)\n",
    "print(NewCircle.area())\n",
    "print(NewCircle.perimeter())"
   ]
  },
  {
   "cell_type": "code",
   "execution_count": null,
   "id": "6bdfe579",
   "metadata": {},
   "outputs": [],
   "source": []
  }
 ],
 "metadata": {
  "kernelspec": {
   "display_name": "Python 3",
   "language": "python",
   "name": "python3"
  },
  "language_info": {
   "codemirror_mode": {
    "name": "ipython",
    "version": 3
   },
   "file_extension": ".py",
   "mimetype": "text/x-python",
   "name": "python",
   "nbconvert_exporter": "python",
   "pygments_lexer": "ipython3",
   "version": "3.8.8"
  }
 },
 "nbformat": 4,
 "nbformat_minor": 5
}
